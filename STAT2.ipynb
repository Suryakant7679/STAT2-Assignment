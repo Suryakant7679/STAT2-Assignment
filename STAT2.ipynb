{
 "cells": [
  {
   "cell_type": "markdown",
   "id": "ec70906b-adda-49dd-bb54-457ecbfc025b",
   "metadata": {},
   "source": [
    "Q1. What are the three measures of central tendency?"
   ]
  },
  {
   "cell_type": "markdown",
   "id": "39531644-b9d5-40ee-826a-6508054cd23f",
   "metadata": {},
   "source": [
    "ANS:- There are three main measures of central tendency: mode. median. mean."
   ]
  },
  {
   "cell_type": "markdown",
   "id": "d3d94626-d9c3-49cf-ba01-7a8389db39f4",
   "metadata": {},
   "source": [
    "Q2. What is the difference between the mean, median, and mode? How are they used to measure the\n",
    "central tendency of a dataset?"
   ]
  },
  {
   "cell_type": "markdown",
   "id": "1fe843d6-b131-4608-a049-cc5147f22c8f",
   "metadata": {},
   "source": [
    "ANS:- The mean is the average where the sum of all the numbers is divided by the total number of numbers, whereas the median is the middle value in the list of given numbers numerically ordered from smallest to biggest and mode is the value of the number which occurs most often in the list."
   ]
  },
  {
   "cell_type": "markdown",
   "id": "6bec6339-bf6c-4676-a9e1-3fb73212fbd2",
   "metadata": {},
   "source": [
    "Example: To find the average of the four numbers 2, 4, 6, and 8, we need to \n",
    "add the number first.\n",
    "\n",
    "2 + 4 + 6+ 8 = 20\n",
    "\n",
    "Divide the sum by the total number of numbers, i. e 4.\n",
    "\n",
    "20/4 = 5 is the average or mean"
   ]
  },
  {
   "cell_type": "markdown",
   "id": "f1dfe50d-6561-4ff2-9be9-9110a58a54a5",
   "metadata": {},
   "source": [
    "MEDIAN:- Example: 4, 2, 8, 10, 19.\n",
    "\n",
    "Arrange the numbers in ascending order. i .e., 2, 4, 8, 10, 19.\n",
    "\n",
    "As the total numbers are 5, so the middle number 8 is the median here"
   ]
  },
  {
   "cell_type": "markdown",
   "id": "46f91be2-b14f-48f9-8ee8-e0231a85941f",
   "metadata": {},
   "source": [
    "MODE:- Example: 3, 3, 5, 6, 7, 7, 8, 1, 1, 1, 4, 5, 6.\n",
    "\n",
    "Find the frequency of each number.\n",
    "\n",
    "For number 3, it’s 2. For 5, it’s 2. For 6, it’s 2. For 7, it’s 2. For 8, it’s \n",
    "\n",
    "one. For 1, it’s 3. For 4, it’s 1.\n",
    "\n",
    "The number with the highest frequency is the mode. Hence, the mode of the given sequence of numbers is 1."
   ]
  },
  {
   "cell_type": "markdown",
   "id": "67172d1c-fc8f-4ee0-8d63-f61d6ecefaa2",
   "metadata": {},
   "source": [
    "Q3. Measure the three measures of central tendency for the given height data:\n",
    "[178,177,176,177,178.2,178,175,179,180,175,178.9,176.2,177,172.5,178,176.5]"
   ]
  },
  {
   "cell_type": "code",
   "execution_count": 2,
   "id": "50bc452c-dc0c-4319-b8e5-b592fa7ff472",
   "metadata": {},
   "outputs": [
    {
     "data": {
      "text/plain": [
       "177.01875"
      ]
     },
     "execution_count": 2,
     "metadata": {},
     "output_type": "execute_result"
    }
   ],
   "source": [
    "import numpy as np\n",
    "l1=[178,177,176,177,178.2,178,175,179,180,175,178.9,176.2,177,172.5,178,176.5]\n",
    "np.mean(l1)"
   ]
  },
  {
   "cell_type": "code",
   "execution_count": 3,
   "id": "37faf669-d79a-4632-a914-3477d0987f8e",
   "metadata": {},
   "outputs": [
    {
     "data": {
      "text/plain": [
       "177.0"
      ]
     },
     "execution_count": 3,
     "metadata": {},
     "output_type": "execute_result"
    }
   ],
   "source": [
    "np.median(l1)"
   ]
  },
  {
   "cell_type": "code",
   "execution_count": 6,
   "id": "faef959a-c444-4db0-88a4-40860f8aff55",
   "metadata": {},
   "outputs": [],
   "source": [
    "l1=np.array([178,177,176,177,178.2,178,175,179,180,175,178.9,176.2,177,172.5,178,176.5])\n"
   ]
  },
  {
   "cell_type": "code",
   "execution_count": 8,
   "id": "ee35ab53-78de-44c4-9721-c67f3b748d7f",
   "metadata": {},
   "outputs": [
    {
     "data": {
      "text/plain": [
       "1"
      ]
     },
     "execution_count": 8,
     "metadata": {},
     "output_type": "execute_result"
    }
   ],
   "source": [
    "l1.ndim"
   ]
  },
  {
   "cell_type": "code",
   "execution_count": 13,
   "id": "80a2bab7-be5e-45a7-af9f-e5043bcb7815",
   "metadata": {},
   "outputs": [
    {
     "name": "stderr",
     "output_type": "stream",
     "text": [
      "/tmp/ipykernel_1547/3704169911.py:2: FutureWarning: Unlike other reduction functions (e.g. `skew`, `kurtosis`), the default behavior of `mode` typically preserves the axis it acts along. In SciPy 1.11.0, this behavior will change: the default value of `keepdims` will become False, the `axis` over which the statistic is taken will be eliminated, and the value None will no longer be accepted. Set `keepdims` to True or False to avoid this warning.\n",
      "  a1=st.mode(l1)\n"
     ]
    }
   ],
   "source": [
    "from scipy import stats as st\n",
    "a1=st.mode(l1)"
   ]
  },
  {
   "cell_type": "code",
   "execution_count": 14,
   "id": "ad79da11-4f52-49cb-aa78-9e4ce0df773f",
   "metadata": {},
   "outputs": [
    {
     "data": {
      "text/plain": [
       "ModeResult(mode=array([177.]), count=array([3]))"
      ]
     },
     "execution_count": 14,
     "metadata": {},
     "output_type": "execute_result"
    }
   ],
   "source": [
    "a1"
   ]
  },
  {
   "cell_type": "markdown",
   "id": "6a353d26-071a-4203-b736-036516864e64",
   "metadata": {},
   "source": [
    "Q4. Find the standard deviation for the given data:\n",
    "[178,177,176,177,178.2,178,175,179,180,175,178.9,176.2,177,172.5,178,176.5]"
   ]
  },
  {
   "cell_type": "code",
   "execution_count": 15,
   "id": "25731b62-3df0-4515-a383-6066b811db67",
   "metadata": {},
   "outputs": [
    {
     "data": {
      "text/plain": [
       "1.7885814036548633"
      ]
     },
     "execution_count": 15,
     "metadata": {},
     "output_type": "execute_result"
    }
   ],
   "source": [
    "np.std(l1)"
   ]
  },
  {
   "cell_type": "markdown",
   "id": "183e32e0-309b-4813-887c-bb2a1c457449",
   "metadata": {},
   "source": [
    "Q5. How are measures of dispersion such as range, variance, and standard deviation used to describe\n",
    "the spread of a dataset? Provide an example."
   ]
  },
  {
   "cell_type": "markdown",
   "id": "b97e061c-bf4d-49b8-9d59-06591ea3b16f",
   "metadata": {},
   "source": [
    "ANS:- Two data sets can have the same mean but they can be entirely different. Thus to describe data, one needs to know the extent of variability. This is given by the measures of dispersion. Range, interquartile range, and standard deviation are the three commonly used measures of dispersion."
   ]
  },
  {
   "cell_type": "markdown",
   "id": "f5effa0a-1f98-44e2-a1b1-89ba5bd44ccf",
   "metadata": {},
   "source": []
  },
  {
   "cell_type": "markdown",
   "id": "bc8d1588-0def-4915-88b8-43aea1eaf241",
   "metadata": {},
   "source": [
    "Q6. What is a Venn diagram?"
   ]
  },
  {
   "cell_type": "markdown",
   "id": "28a94e6c-b911-4226-8676-92a98bf136d4",
   "metadata": {},
   "source": [
    "ANS:- A Venn diagram is an illustration that uses circles to show the relationships among things or finite groups of things."
   ]
  },
  {
   "cell_type": "markdown",
   "id": "1371dfa1-ceca-4589-8b40-525b73050033",
   "metadata": {},
   "source": [
    "Q7. For the two given sets A = (2,3,4,5,6,7) & B = (0,2,6,8,10). Find:\n",
    "    \n",
    "(i) A X B\n",
    "\n",
    "(ii) A ⋃ B"
   ]
  },
  {
   "cell_type": "markdown",
   "id": "2cba06af-a272-4ba5-8205-3d6f79293bcb",
   "metadata": {},
   "source": [
    "A  intersection B = (2,6)\n",
    "\n",
    "A U B = (0,2 3,4,5,6,7,8,10)"
   ]
  },
  {
   "cell_type": "markdown",
   "id": "70e2acbb-43cf-4102-9014-0f56f0b19536",
   "metadata": {},
   "source": [
    "Q8. What do you understand about skewness in data?"
   ]
  },
  {
   "cell_type": "markdown",
   "id": "3cc15b54-1202-4282-aa64-b772f723f939",
   "metadata": {},
   "source": [
    "ANS:- Skewness is a measure of the asymmetry of a distribution. A distribution is asymmetrical when its left and right side are not mirror images. "
   ]
  },
  {
   "cell_type": "markdown",
   "id": "ee9524f2-4222-4313-b5ee-1da668121fbf",
   "metadata": {},
   "source": [
    "Q9. If a data is right skewed then what will be the position of median with respect to mean?"
   ]
  },
  {
   "cell_type": "markdown",
   "id": "10258a69-c111-4fdd-bc79-bd3010cbcf4b",
   "metadata": {},
   "source": [
    "AND:- MEAN>MEDIAN>MODE"
   ]
  },
  {
   "cell_type": "markdown",
   "id": "fb0f2856-2e4a-465c-93b7-697180a760fc",
   "metadata": {},
   "source": [
    "Q10. Explain the difference between covariance and correlation. How are these measures used in\n",
    "statistical analysis?"
   ]
  },
  {
   "cell_type": "markdown",
   "id": "213f4f5e-a180-45b0-a03b-47a4f22ec8f1",
   "metadata": {},
   "source": [
    "ANS:- Covariance is an indicator of the extent to which 2 random variables are dependent on each other. A higher number denotes higher dependency.\n",
    "\n",
    "The value of covariance lies in the range of -∞ and +∞."
   ]
  },
  {
   "cell_type": "markdown",
   "id": "16c32a83-170d-4111-8e86-2f33fd22a12b",
   "metadata": {},
   "source": [
    "Correlation is a statistical measure that indicates how strongly two variables are related.\n",
    "\n",
    "Correlation is limited to values between the range -1 and +1"
   ]
  },
  {
   "cell_type": "markdown",
   "id": "436d011b-ff2f-4a28-b135-fbc193a98a2b",
   "metadata": {},
   "source": [
    "Q11. What is the formula for calculating the sample mean? Provide an example calculation for a\n",
    "dataset."
   ]
  },
  {
   "cell_type": "markdown",
   "id": "1aa0ded6-623f-4096-af16-2c909fe77a7f",
   "metadata": {},
   "source": [
    "Ans:=he sample mean formula is: x̄= (xi)/n"
   ]
  },
  {
   "cell_type": "markdown",
   "id": "c7b1bc39-6ed5-4091-85e1-410340a4825c",
   "metadata": {},
   "source": [
    "To find: Sample mean\n",
    "\n",
    "Sum of terms = 60 + 57 + 109 + 50 = 276\n",
    "\n",
    "Number of terms = 4\n",
    "\n",
    "Using sample mean formula,\n",
    "\n",
    "mean = (sum of terms)/(number of terms)\n",
    "\n",
    "mean = 276/4 = 69\n",
    "\n",
    "Answer: The sample mean of 60, 57, 109, 50 is  69."
   ]
  },
  {
   "cell_type": "markdown",
   "id": "69c2c9bd-85b9-48ee-858a-31f80f776a36",
   "metadata": {},
   "source": [
    "Q12. For a normal distribution data what is the relationship between its measure of central tendency?"
   ]
  },
  {
   "cell_type": "markdown",
   "id": "243db1d6-3b84-411c-b612-e428d454eee5",
   "metadata": {},
   "source": [
    "ANS:- Any normal distribution has a graph that is perfectly symmetric about a vertical line through its peak. Therefore, all measures of central tendency (most commonly, the mean, median, and mode) give the same answer: the x -value of the peak."
   ]
  },
  {
   "cell_type": "markdown",
   "id": "03719325-3f68-4f67-b36b-e665fa1a7b06",
   "metadata": {},
   "source": [
    "Q13. How is covariance different from correlation?"
   ]
  },
  {
   "cell_type": "markdown",
   "id": "947bc5b3-5617-43b0-b781-e0bdab67b64d",
   "metadata": {},
   "source": [
    "ANS:- Covariance and correlation are two terms that are opposed and are both used in statistics and regression analysis. Covariance shows you how the two variables differ, whereas correlation shows you how the two variables are related."
   ]
  },
  {
   "cell_type": "markdown",
   "id": "79b50d4e-5540-4d94-b79c-38624e941a21",
   "metadata": {},
   "source": [
    "Q14. How do outliers affect measures of central tendency and dispersion? Provide an example."
   ]
  },
  {
   "cell_type": "markdown",
   "id": "f57510f9-4b7a-44ea-a504-9fba6438221f",
   "metadata": {},
   "source": [
    "ANS:- Consider a data set without outlier\n",
    "data= 1,2,3,4,5\n",
    "mean= (1+2+3+4+5)/5=3\n",
    "data with outlier\n",
    "data1=1,2,3,4,5,100\n",
    "mean=(1+2+3+4+5+100)/6=19.5\n",
    "due to outliers mean is much affected"
   ]
  },
  {
   "cell_type": "code",
   "execution_count": null,
   "id": "530380d3-1a1a-4710-bb8a-185110b851ea",
   "metadata": {},
   "outputs": [],
   "source": []
  }
 ],
 "metadata": {
  "kernelspec": {
   "display_name": "Python 3 (ipykernel)",
   "language": "python",
   "name": "python3"
  },
  "language_info": {
   "codemirror_mode": {
    "name": "ipython",
    "version": 3
   },
   "file_extension": ".py",
   "mimetype": "text/x-python",
   "name": "python",
   "nbconvert_exporter": "python",
   "pygments_lexer": "ipython3",
   "version": "3.10.8"
  }
 },
 "nbformat": 4,
 "nbformat_minor": 5
}
